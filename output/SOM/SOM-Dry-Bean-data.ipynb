{
 "cells": [
  {
   "cell_type": "markdown",
   "metadata": {},
   "source": [
    "# Self Organizing Maps (SOM)\n",
    "### Dataset: [Dry_Bean_Dataset.xlsx](../../input/Dry_Bean_Dataset_Citation_Request.txt)\n"
   ]
  },
  {
   "cell_type": "markdown",
   "metadata": {},
   "source": [
    "<a id=\"1\"></a>\n",
    "## Import modules"
   ]
  },
  {
   "cell_type": "code",
   "execution_count": 4,
   "metadata": {},
   "outputs": [],
   "source": [
    "import pandas as pd\n",
    "from sklearn.preprocessing import StandardScaler\n",
    "from sklearn.decomposition import PCA\n",
    "import matplotlib.pyplot as plt\n",
    "import numpy as np\n",
    "\n"
   ]
  },
  {
   "cell_type": "markdown",
   "metadata": {},
   "source": [
    "<a id=\"2\"></a>\n",
    "## Loading dataset"
   ]
  },
  {
   "cell_type": "code",
   "execution_count": 5,
   "metadata": {},
   "outputs": [
    {
     "ename": "TypeError",
     "evalue": "loop of ufunc does not support argument 0 of type float which has no callable sqrt method",
     "output_type": "error",
     "traceback": [
      "\u001b[0;31m---------------------------------------------------------------------------\u001b[0m",
      "\u001b[0;31mAttributeError\u001b[0m                            Traceback (most recent call last)",
      "\u001b[0;31mAttributeError\u001b[0m: 'float' object has no attribute 'sqrt'",
      "\nThe above exception was the direct cause of the following exception:\n",
      "\u001b[0;31mTypeError\u001b[0m                                 Traceback (most recent call last)",
      "\u001b[1;32m/Users/sebi/Desktop/UNIV/neuronal/A3-NeuralNetworks/output/SOM/SOM-Dry-Bean-data.ipynb Cell 5\u001b[0m line \u001b[0;36m9\n\u001b[1;32m      <a href='vscode-notebook-cell:/Users/sebi/Desktop/UNIV/neuronal/A3-NeuralNetworks/output/SOM/SOM-Dry-Bean-data.ipynb#W4sZmlsZQ%3D%3D?line=6'>7</a>\u001b[0m \u001b[39m# Standardize all columns except the last one\u001b[39;00m\n\u001b[1;32m      <a href='vscode-notebook-cell:/Users/sebi/Desktop/UNIV/neuronal/A3-NeuralNetworks/output/SOM/SOM-Dry-Bean-data.ipynb#W4sZmlsZQ%3D%3D?line=7'>8</a>\u001b[0m epsilon \u001b[39m=\u001b[39m \u001b[39m1e-8\u001b[39m\n\u001b[0;32m----> <a href='vscode-notebook-cell:/Users/sebi/Desktop/UNIV/neuronal/A3-NeuralNetworks/output/SOM/SOM-Dry-Bean-data.ipynb#W4sZmlsZQ%3D%3D?line=8'>9</a>\u001b[0m dataset_1[:, :\u001b[39m-\u001b[39m\u001b[39m1\u001b[39m] \u001b[39m=\u001b[39m (dataset_1[:, :\u001b[39m-\u001b[39m\u001b[39m1\u001b[39m] \u001b[39m-\u001b[39m np\u001b[39m.\u001b[39mmean(dataset_1[:, :\u001b[39m-\u001b[39m\u001b[39m1\u001b[39m], axis\u001b[39m=\u001b[39m\u001b[39m0\u001b[39m)) \u001b[39m/\u001b[39m (np\u001b[39m.\u001b[39;49mstd(dataset_1[:, :\u001b[39m-\u001b[39;49m\u001b[39m1\u001b[39;49m], axis\u001b[39m=\u001b[39;49m\u001b[39m0\u001b[39;49m) \u001b[39m+\u001b[39m epsilon)\n\u001b[1;32m     <a href='vscode-notebook-cell:/Users/sebi/Desktop/UNIV/neuronal/A3-NeuralNetworks/output/SOM/SOM-Dry-Bean-data.ipynb#W4sZmlsZQ%3D%3D?line=10'>11</a>\u001b[0m \u001b[39m# Print the shape and the minimum values for each column\u001b[39;00m\n\u001b[1;32m     <a href='vscode-notebook-cell:/Users/sebi/Desktop/UNIV/neuronal/A3-NeuralNetworks/output/SOM/SOM-Dry-Bean-data.ipynb#W4sZmlsZQ%3D%3D?line=11'>12</a>\u001b[0m \u001b[39mprint\u001b[39m(dataset_1\u001b[39m.\u001b[39mshape)\n",
      "File \u001b[0;32m/Library/Frameworks/Python.framework/Versions/3.12/lib/python3.12/site-packages/numpy/core/fromnumeric.py:3645\u001b[0m, in \u001b[0;36mstd\u001b[0;34m(a, axis, dtype, out, ddof, keepdims, where)\u001b[0m\n\u001b[1;32m   3642\u001b[0m     \u001b[39melse\u001b[39;00m:\n\u001b[1;32m   3643\u001b[0m         \u001b[39mreturn\u001b[39;00m std(axis\u001b[39m=\u001b[39maxis, dtype\u001b[39m=\u001b[39mdtype, out\u001b[39m=\u001b[39mout, ddof\u001b[39m=\u001b[39mddof, \u001b[39m*\u001b[39m\u001b[39m*\u001b[39mkwargs)\n\u001b[0;32m-> 3645\u001b[0m \u001b[39mreturn\u001b[39;00m _methods\u001b[39m.\u001b[39;49m_std(a, axis\u001b[39m=\u001b[39;49maxis, dtype\u001b[39m=\u001b[39;49mdtype, out\u001b[39m=\u001b[39;49mout, ddof\u001b[39m=\u001b[39;49mddof,\n\u001b[1;32m   3646\u001b[0m                      \u001b[39m*\u001b[39;49m\u001b[39m*\u001b[39;49mkwargs)\n",
      "File \u001b[0;32m/Library/Frameworks/Python.framework/Versions/3.12/lib/python3.12/site-packages/numpy/core/_methods.py:210\u001b[0m, in \u001b[0;36m_std\u001b[0;34m(a, axis, dtype, out, ddof, keepdims, where)\u001b[0m\n\u001b[1;32m    206\u001b[0m ret \u001b[39m=\u001b[39m _var(a, axis\u001b[39m=\u001b[39maxis, dtype\u001b[39m=\u001b[39mdtype, out\u001b[39m=\u001b[39mout, ddof\u001b[39m=\u001b[39mddof,\n\u001b[1;32m    207\u001b[0m            keepdims\u001b[39m=\u001b[39mkeepdims, where\u001b[39m=\u001b[39mwhere)\n\u001b[1;32m    209\u001b[0m \u001b[39mif\u001b[39;00m \u001b[39misinstance\u001b[39m(ret, mu\u001b[39m.\u001b[39mndarray):\n\u001b[0;32m--> 210\u001b[0m     ret \u001b[39m=\u001b[39m um\u001b[39m.\u001b[39;49msqrt(ret, out\u001b[39m=\u001b[39;49mret)\n\u001b[1;32m    211\u001b[0m \u001b[39melif\u001b[39;00m \u001b[39mhasattr\u001b[39m(ret, \u001b[39m'\u001b[39m\u001b[39mdtype\u001b[39m\u001b[39m'\u001b[39m):\n\u001b[1;32m    212\u001b[0m     ret \u001b[39m=\u001b[39m ret\u001b[39m.\u001b[39mdtype\u001b[39m.\u001b[39mtype(um\u001b[39m.\u001b[39msqrt(ret))\n",
      "\u001b[0;31mTypeError\u001b[0m: loop of ufunc does not support argument 0 of type float which has no callable sqrt method"
     ]
    }
   ],
   "source": [
    "filename = '../../input/Dry_Bean_Dataset.xlsx'\n",
    "df = pd.read_excel(filename)\n",
    "\n",
    "# Convert the DataFrame to a NumPy array\n",
    "dataset_1 = df.to_numpy()\n",
    "\n",
    "# Standardize all columns except the last one\n",
    "epsilon = 1e-8\n",
    "dataset_1[:, :-1] = (dataset_1[:, :-1] - np.mean(dataset_1[:, :-1], axis=0)) / (np.std(dataset_1[:, :-1], axis=0) + epsilon)\n",
    "\n",
    "# Print the shape and the minimum values for each column\n",
    "print(dataset_1.shape)\n",
    "print(np.min(dataset_1, axis=0))"
   ]
  },
  {
   "cell_type": "markdown",
   "metadata": {},
   "source": [
    "<a id=\"3\"></a>\n",
    "## Standardize the data"
   ]
  },
  {
   "cell_type": "code",
   "execution_count": null,
   "metadata": {},
   "outputs": [],
   "source": [
    "training_data = dataset_1[:, :-1] \n",
    "target = np.array(dataset_1[:, -1], dtype=np.uint8) \n",
    "\n",
    "# Define SOM parameters\n",
    "parameters_to_try = [\n",
    "    {\"sigma\": 0.5, \"learning_rate\": 0.5, \"neighborhood_function\": \"gaussian\", \"topology\": \"rectangular\"},\n",
    "    # Add other parameter sets as needed\n",
    "]\n",
    "\n",
    "plt.figure(figsize=(12, 10))\n",
    "\n",
    "for i, params in enumerate(parameters_to_try):\n",
    "    plt.subplot(2, 2, i + 1)\n",
    "    n_neurons = 20\n",
    "    m_neurons = 20\n",
    "    som = MiniSom(n_neurons, m_neurons, training_data.shape[1], random_seed=42, **params)\n",
    "\n",
    "    som.pca_weights_init(training_data)\n",
    "    som.train(training_data, 5000, verbose=True)\n",
    "\n",
    "    plt.pcolor(som.distance_map().T, cmap='coolwarm')  \n",
    "    plt.colorbar()\n",
    "\n",
    "    markers = ['*', 'X', 'P', '>', '<', 'p', 'H']\n",
    "    colors = ['red', 'green', 'blue', 'purple', 'orange', 'brown', 'pink']\n",
    "    for cnt, xx in enumerate(training_data):\n",
    "        w = som.winner(xx)\n",
    "        plt.plot(w[0]+.5, w[1]+.5, markers[target[cnt]-1], markerfacecolor='None',\n",
    "                 markeredgecolor=colors[target[cnt]-1], markersize=10, markeredgewidth=2)\n",
    "\n",
    "    plt.title(f'SOM with sigma={params[\"sigma\"]}, lr={params[\"learning_rate\"]}')\n",
    "    plt.xlabel('Neuron X coordinate')\n",
    "    plt.ylabel('Neuron Y coordinate')\n",
    "\n",
    "plt.tight_layout()\n",
    "plt.show()"
   ]
  },
  {
   "cell_type": "markdown",
   "metadata": {},
   "source": [
    "### Connection to the First Plot with Data Points\n"
   ]
  },
  {
   "cell_type": "code",
   "execution_count": null,
   "metadata": {},
   "outputs": [],
   "source": [
    "w_x, w_y = zip(*[som.winner(d) for d in training_data])\n",
    "w_x = np.array(w_x)\n",
    "w_y = np.array(w_y)\n",
    "\n",
    "colors = ['red', 'green', 'blue', 'yellow', 'orange', 'purple', 'pink']\n",
    "label_names = ['Class 1', 'Class 2', 'Class 3', 'Class 4', 'Class 5', 'Class 6', 'Class 7']\n",
    "\n",
    "plt.figure(figsize=(12, 10))\n",
    "plt.subplot(2, 1, 1)  # SOM distance map and data points\n",
    "plt.pcolor(som.distance_map().T, cmap='bone_r', alpha=0.2)\n",
    "plt.colorbar()\n",
    "\n",
    "for c in np.unique(target):\n",
    "    idx_target = target == c\n",
    "    plt.scatter(w_x[idx_target] + 0.5 + (np.random.rand(np.sum(idx_target)) - 0.5) * 0.8,\n",
    "                w_y[idx_target] + 0.5 + (np.random.rand(np.sum(idx_target)) - 0.5) * 0.8,\n",
    "                s=50, c=colors[c-1], label=label_names[c-1])\n",
    "\n",
    "plt.legend(loc='upper right')\n",
    "plt.grid()\n",
    "\n",
    "w = som.get_weights()\n",
    "for i in range(4):\n",
    "    plt.subplot(2, 4, 5 + i)\n",
    "    plt.pcolor(w[:, :, i], cmap='plasma')\n",
    "    plt.title(f'Neuron weight component {i+1}')\n",
    "\n",
    "plt.tight_layout()\n",
    "plt.show()"
   ]
  }
 ],
 "metadata": {
  "kernelspec": {
   "display_name": "Python 3",
   "language": "python",
   "name": "python3"
  },
  "language_info": {
   "codemirror_mode": {
    "name": "ipython",
    "version": 3
   },
   "file_extension": ".py",
   "mimetype": "text/x-python",
   "name": "python",
   "nbconvert_exporter": "python",
   "pygments_lexer": "ipython3",
   "version": "3.12.0"
  }
 },
 "nbformat": 4,
 "nbformat_minor": 2
}
